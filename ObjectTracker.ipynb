{
 "cells": [
  {
   "cell_type": "code",
   "execution_count": 1,
   "metadata": {},
   "outputs": [],
   "source": [
    "import cv2\n",
    "import numpy as np\n",
    "\n",
    "cap=cv2.VideoCapture(0)\n",
    "\n",
    "lowercolor=np.array([0,128,103])\n",
    "uppercolor=np.array([250,255,255])\n",
    "\n",
    "points=[]\n",
    "radius=0\n",
    "ret,frame=cap.read()\n",
    "Height,Width=frame.shape[:2]\n",
    "frame_count=0\n",
    "\n",
    "while True:\n",
    "    ret,frame=cap.read()\n",
    "    hsv_img=cv2.cvtColor(frame,cv2.COLOR_BGR2HSV)\n",
    "    mask=cv2.inRange(hsv_img,lowercolor,uppercolor)\n",
    "    contours,_=cv2.findContours(mask.copy(),cv2.RETR_EXTERNAL,cv2.CHAIN_APPROX_SIMPLE)\n",
    "    center=int(Height/2),int(Width)/2\n",
    "    if len(contours)>0:\n",
    "        c=max(contours,key=cv2.contourArea)\n",
    "        (x,y),radius=cv2.minEnclosingCircle(c)\n",
    "        M=cv2.moments(c)\n",
    "        try:\n",
    "            center=(int(M[\"m10\"]/M[\"m00\"]),int(M[\"m01\"]/M[\"m00\"]))\n",
    "        except:\n",
    "            center=int(Height/2),int(Width/2)\n",
    "            \n",
    "        if radius>25:\n",
    "            cv2.circle(frame,(int(x),int(y)),int(radius),(0,0,255),2)\n",
    "            cv2.circle(frame,center,5,(0,255,0),-1)\n",
    "        \n",
    "        \n",
    "    points.append(center)\n",
    "    if radius>25:\n",
    "        for i in range(1,len(points)):\n",
    "            try:\n",
    "                cv2.line(frame,points[i-1],points[i],(0,255,0),2)\n",
    "            except:\n",
    "                pass\n",
    "        frame_count=0\n",
    "            \n",
    "    else:\n",
    "        frame_count=frame_count+1\n",
    "        if frame_count==10:\n",
    "            points=[]\n",
    "            frame_count=0\n",
    "            \n",
    "    frame=cv2.flip(frame,1)\n",
    "    cv2.imshow(\"sdsdsd\",frame)\n",
    "    if cv2.waitKey(1) & 0xFF is ord('q'):\n",
    "        break\n"
   ]
  },
  {
   "cell_type": "code",
   "execution_count": null,
   "metadata": {},
   "outputs": [],
   "source": []
  }
 ],
 "metadata": {
  "kernelspec": {
   "display_name": "Python 2",
   "language": "python",
   "name": "python2"
  },
  "language_info": {
   "codemirror_mode": {
    "name": "ipython",
    "version": 2
   },
   "file_extension": ".py",
   "mimetype": "text/x-python",
   "name": "python",
   "nbconvert_exporter": "python",
   "pygments_lexer": "ipython2",
   "version": "2.7.14"
  }
 },
 "nbformat": 4,
 "nbformat_minor": 2
}
